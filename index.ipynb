{
 "cells": [
  {
   "cell_type": "markdown",
   "metadata": {},
   "source": [
    "# Example: an interactive line source ploting"
   ]
  },
  {
   "cell_type": "code",
   "execution_count": 1,
   "metadata": {
    "collapsed": false
   },
   "outputs": [],
   "source": [
    "from __future__ import print_function\n",
    "from ipywidgets import interact, interactive, fixed\n",
    "import ipywidgets as widgets\n",
    "\n",
    "import matplotlib\n",
    "import numpy as np\n",
    "import matplotlib.pyplot as plt\n",
    "%matplotlib inline\n",
    "\n",
    "from pylab import r_\n",
    "\n",
    "%run temp_codes/ls_5.py"
   ]
  },
  {
   "cell_type": "code",
   "execution_count": 2,
   "metadata": {
    "collapsed": false
   },
   "outputs": [
    {
     "name": "stderr",
     "output_type": "stream",
     "text": [
      "/usr/local/lib/python3.5/dist-packages/traitlets-4.3.0-py3.5.egg/traitlets/traitlets.py:565: FutureWarning: comparison to `None` will result in an elementwise object comparison in the future.\n",
      "  silent = bool(old_value == new_value)\n"
     ]
    }
   ],
   "source": [
    "rho_widget=widgets.BoundedFloatText(\n",
    "    value=1000, min=10, max=10**6, step=1,\n",
    "    description='rho (xxx/sss)')\n",
    "t0_widget=widgets.BoundedFloatText(\n",
    "    value=8, min=1, max=10, step=.1,\n",
    "    description='t0 (sec)')\n",
    "def line_source_plot(tim: fixed(r_[1:180:0.5]), t0: t0_widget, rho: rho_widget):\n",
    "    tim, y_data, y_fit = line_source(t0=t0,rho=rho)\n",
    "    plt.plot(tim,y_data,'.')\n",
    "    plt.plot(tim,y_fit,'r')\n",
    "    plt.xlabel('Time (sec)')\n",
    "    plt.ylabel('$\\Delta$ T (Celsius)')\n",
    "    plt.text(t0+50,0.1,111)\n",
    "    plt.show()"
   ]
  },
  {
   "cell_type": "code",
   "execution_count": 3,
   "metadata": {
    "collapsed": false
   },
   "outputs": [
    {
     "data": {
      "image/png": "[encoded data removed]",
      "text/plain": [
       "<matplotlib.figure.Figure at 0x7fc4984fed30>"
      ]
     },
     "metadata": {},
     "output_type": "display_data"
    }
   ],
   "source": [
    "interact(line_source_plot);"
   ]
  },
  {
   "cell_type": "markdown",
   "metadata": {},
   "source": [
    "# Experimenting with a selector of processes to apply"
   ]
  },
  {
   "cell_type": "code",
   "execution_count": null,
   "metadata": {
    "collapsed": false
   },
   "outputs": [],
   "source": [
    "@interact()\n",
    "def choose_treatment(processing: widgets.Select(\n",
    "    options=[\"line_source\", \"f\"],\n",
    "    description='Processing:')):\n",
    "    if processing == \"line_source\":\n",
    "        return interact(line_source_plot)\n",
    "    else:\n",
    "        return interact(f_interact);"
   ]
  },
  {
   "cell_type": "code",
   "execution_count": null,
   "metadata": {
    "collapsed": true
   },
   "outputs": [],
   "source": []
  }
 ],
 "metadata": {
  "kernelspec": {
   "display_name": "Python 3",
   "language": "python",
   "name": "python3"
  },
  "language_info": {
   "codemirror_mode": {
    "name": "ipython",
    "version": 3
   },
   "file_extension": ".py",
   "mimetype": "text/x-python",
   "name": "python",
   "nbconvert_exporter": "python",
   "pygments_lexer": "ipython3",
   "version": "3.5.2"
  },
  "widgets": {
   "state": {
    "023dec876613479c9d7cdad8d7cf815b": {
     "views": [
      {
       "cell_index": 3
      }
     ]
    },
    "077db72e03ef42c3b0fc69b005b20a8f": {
     "views": [
      {
       "cell_index": 4
      }
     ]
    },
    "17dbb77795f5484fba2d7e4305d60816": {
     "views": [
      {
       "cell_index": 4
      }
     ]
    },
    "185de86d869442a19cc1d8d70d362445": {
     "views": [
      {
       "cell_index": 3
      }
     ]
    },
    "299d8b3e548e40bfa8358e5c830a8420": {
     "views": [
      {
       "cell_index": 4
      }
     ]
    },
    "47e534331ff64410a995fcc9865f3edd": {
     "views": [
      {
       "cell_index": 4
      }
     ]
    },
    "55b3c6f9ea7644a09c32d4a98f78312a": {
     "views": [
      {
       "cell_index": 3
      }
     ]
    },
    "64d501b3a2e04841b48f3ec747d8161d": {
     "views": [
      {
       "cell_index": 3
      }
     ]
    },
    "7bbdf1773dd9492ab490d7aa297d2122": {
     "views": [
      {
       "cell_index": 4
      }
     ]
    },
    "7c5909d326c04d00aa91a6ef51572150": {
     "views": [
      {
       "cell_index": 4
      }
     ]
    },
    "83f799d5f32d4dffabca16ebb82f0bcc": {
     "views": [
      {
       "cell_index": 3
      }
     ]
    },
    "84e7bd30fdb64a55be5b379fe9dbb2e8": {
     "views": [
      {
       "cell_index": 3
      }
     ]
    },
    "b1cbd4a3e8d9435fba8fa6f7d1972ecc": {
     "views": [
      {
       "cell_index": 4
      }
     ]
    },
    "d0cab198320a4e8b9df072640eaff9e4": {
     "views": [
      {
       "cell_index": 4
      }
     ]
    },
    "e39fea867a5c46d189bca2897fab1f22": {
     "views": [
      {
       "cell_index": 4
      }
     ]
    }
   },
   "version": "1.2.0"
  }
 },
 "nbformat": 4,
 "nbformat_minor": 1
}
